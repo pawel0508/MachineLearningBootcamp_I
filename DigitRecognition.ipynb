{
  "nbformat": 4,
  "nbformat_minor": 0,
  "metadata": {
    "colab": {
      "name": "Untitled25.ipynb",
      "provenance": [],
      "authorship_tag": "ABX9TyP/B4YOzjZTDcUFMxUgfKJU",
      "include_colab_link": true
    },
    "kernelspec": {
      "name": "python3",
      "display_name": "Python 3"
    }
  },
  "cells": [
    {
      "cell_type": "markdown",
      "metadata": {
        "id": "view-in-github",
        "colab_type": "text"
      },
      "source": [
        "<a href=\"https://colab.research.google.com/github/pawel0508/MachineLearningBootcamp_I/blob/master/DigitRecognition.ipynb\" target=\"_parent\"><img src=\"https://colab.research.google.com/assets/colab-badge.svg\" alt=\"Open In Colab\"/></a>"
      ]
    },
    {
      "cell_type": "code",
      "metadata": {
        "id": "fbV4ZiPL0aT-"
      },
      "source": [
        "import numpy as np\n",
        "import pandas as pd\n",
        "import seaborn as sns\n",
        "import matplotlib.pyplot as plt\n",
        "import plotly.figure_factory as ff\n",
        "from sklearn import datasets\n",
        "from sklearn.metrics import classification_report \n",
        "from sklearn.metrics import confusion_matrix\n",
        "\n",
        "\n",
        "sns.set(font_scale = 1.3)\n",
        "np.random.seed(42)\n"
      ],
      "execution_count": 1,
      "outputs": []
    },
    {
      "cell_type": "code",
      "metadata": {
        "id": "ZTHXqVyZkKj2"
      },
      "source": [
        "raw_digits = datasets.load_digits()\n",
        "digits = raw_digits.copy()"
      ],
      "execution_count": 2,
      "outputs": []
    },
    {
      "cell_type": "code",
      "metadata": {
        "id": "umNztwDykWhB",
        "outputId": "4777b521-9804-4ec3-f7e7-bffaa0ce55e3",
        "colab": {
          "base_uri": "https://localhost:8080/",
          "height": 34
        }
      },
      "source": [
        "digits.keys()"
      ],
      "execution_count": 3,
      "outputs": [
        {
          "output_type": "execute_result",
          "data": {
            "text/plain": [
              "dict_keys(['data', 'target', 'target_names', 'images', 'DESCR'])"
            ]
          },
          "metadata": {
            "tags": []
          },
          "execution_count": 3
        }
      ]
    },
    {
      "cell_type": "code",
      "metadata": {
        "id": "lSYi_uL0kZJl"
      },
      "source": [
        "images = digits['images']\n",
        "targets = digits['target']"
      ],
      "execution_count": 11,
      "outputs": []
    },
    {
      "cell_type": "code",
      "metadata": {
        "id": "2i3bzxx3keTk",
        "outputId": "9ae393dc-e436-4bf0-81e8-3f9bdea47eab",
        "colab": {
          "base_uri": "https://localhost:8080/",
          "height": 50
        }
      },
      "source": [
        "print(f'images shape: {images.shape}')\n",
        "print(f'targets shape: {targets.shape}')"
      ],
      "execution_count": 12,
      "outputs": [
        {
          "output_type": "stream",
          "text": [
            "images shape: (1797, 8, 8)\n",
            "targets shape: (1797,)\n"
          ],
          "name": "stdout"
        }
      ]
    },
    {
      "cell_type": "code",
      "metadata": {
        "id": "As9VSDBEky0N",
        "outputId": "62ac1b6c-42d8-4296-b5f4-ef6dbdd75442",
        "colab": {
          "base_uri": "https://localhost:8080/",
          "height": 151
        }
      },
      "source": [
        "images[0]"
      ],
      "execution_count": 17,
      "outputs": [
        {
          "output_type": "execute_result",
          "data": {
            "text/plain": [
              "array([[ 0.,  0.,  5., 13.,  9.,  1.,  0.,  0.],\n",
              "       [ 0.,  0., 13., 15., 10., 15.,  5.,  0.],\n",
              "       [ 0.,  3., 15.,  2.,  0., 11.,  8.,  0.],\n",
              "       [ 0.,  4., 12.,  0.,  0.,  8.,  8.,  0.],\n",
              "       [ 0.,  5.,  8.,  0.,  0.,  9.,  8.,  0.],\n",
              "       [ 0.,  4., 11.,  0.,  1., 12.,  7.,  0.],\n",
              "       [ 0.,  2., 14.,  5., 10., 12.,  0.,  0.],\n",
              "       [ 0.,  0.,  6., 13., 10.,  0.,  0.,  0.]])"
            ]
          },
          "metadata": {
            "tags": []
          },
          "execution_count": 17
        }
      ]
    },
    {
      "cell_type": "markdown",
      "metadata": {
        "id": "Jmil7BZ8lGEm"
      },
      "source": [
        "Wizualizacja obrazów"
      ]
    },
    {
      "cell_type": "code",
      "metadata": {
        "id": "gy7kB-8Rk5Df",
        "outputId": "83ff6aab-5bf4-4d8c-b3a8-ad2bccad13d3",
        "colab": {
          "base_uri": "https://localhost:8080/",
          "height": 50
        }
      },
      "source": [
        "plt.figure(figsize = (12, 10))"
      ],
      "execution_count": 18,
      "outputs": [
        {
          "output_type": "execute_result",
          "data": {
            "text/plain": [
              "<Figure size 864x432 with 0 Axes>"
            ]
          },
          "metadata": {
            "tags": []
          },
          "execution_count": 18
        },
        {
          "output_type": "display_data",
          "data": {
            "text/plain": [
              "<Figure size 864x432 with 0 Axes>"
            ]
          },
          "metadata": {
            "tags": []
          }
        }
      ]
    },
    {
      "cell_type": "code",
      "metadata": {
        "id": "lyYmQHJSlKwL",
        "outputId": "ee47420c-336c-4b7a-d17f-13e667dfba9c",
        "colab": {
          "base_uri": "https://localhost:8080/",
          "height": 160
        }
      },
      "source": [
        "plt.figure(figsize = (14, 12))\n",
        "for index, (image, target) in enumerate(list(zip(images, targets))[:6]):\n",
        "  plt.subplot(2, 6, index + 1)\n",
        "  plt.axis('off')\n",
        "  plt.imshow(image, cmap = 'Blues')\n",
        "  plt.title(f'Label: {target}')\n"
      ],
      "execution_count": 26,
      "outputs": [
        {
          "output_type": "display_data",
          "data": {
            "image/png": "[encoded data removed]",
            "text/plain": [
              "<Figure size 1008x864 with 6 Axes>"
            ]
          },
          "metadata": {
            "tags": [],
            "needs_background": "light"
          }
        }
      ]
    },
    {
      "cell_type": "markdown",
      "metadata": {
        "id": "QskjaYXroX73"
      },
      "source": [
        "Przygotowanie danych do modelu\n"
      ]
    },
    {
      "cell_type": "code",
      "metadata": {
        "id": "DIQwMz5rlZ2V",
        "outputId": "ca7c2c0c-e298-4ef1-97f1-960fea4c9830",
        "colab": {
          "base_uri": "https://localhost:8080/",
          "height": 84
        }
      },
      "source": [
        "from sklearn.model_selection import train_test_split\n",
        "\n",
        "X_train, X_test, y_train, y_test = train_test_split(images, targets)\n",
        "\n",
        "print(f'X_train shape: {X_train.shape}')\n",
        "print(f'X_test shape: {X_test.shape}')\n",
        "print(f'y_train shape: {y_train.shape}')\n",
        "print(f'y_test shape: {y_test.shape}')\n",
        "\n"
      ],
      "execution_count": 32,
      "outputs": [
        {
          "output_type": "stream",
          "text": [
            "X_train shape: (1347, 8, 8)\n",
            "X_test shape: (450, 8, 8)\n",
            "y_train shape: (1347,)\n",
            "y_test shape: (450,)\n"
          ],
          "name": "stdout"
        }
      ]
    },
    {
      "cell_type": "code",
      "metadata": {
        "id": "SJuFPtjgoxza",
        "outputId": "4455f17f-dcbe-450f-8ad1-914a2c7d49cd",
        "colab": {
          "base_uri": "https://localhost:8080/",
          "height": 67
        }
      },
      "source": [
        "X_train = X_train.reshape(X_train.shape[0], -1)\n",
        "X_test = X_test.reshape(X_test.shape[0], -1)\n",
        "\n",
        "print()\n",
        "print(f'X_train shape: {X_train.shape}')\n",
        "print(f'X_test shape: {X_test.shape}')"
      ],
      "execution_count": 37,
      "outputs": [
        {
          "output_type": "stream",
          "text": [
            "\n",
            "X_train shape: (1347, 64)\n",
            "X_test shape: (450, 64)\n"
          ],
          "name": "stdout"
        }
      ]
    },
    {
      "cell_type": "code",
      "metadata": {
        "id": "W43X4ByKx7or",
        "outputId": "806ec1a7-0fb8-460c-895c-f6a815b253c1",
        "colab": {
          "base_uri": "https://localhost:8080/",
          "height": 101
        }
      },
      "source": [
        "X_train[0]"
      ],
      "execution_count": 38,
      "outputs": [
        {
          "output_type": "execute_result",
          "data": {
            "text/plain": [
              "array([ 0.,  0.,  9.,  9.,  4.,  0.,  0.,  0.,  0.,  0., 15., 15., 14.,\n",
              "       12.,  0.,  0.,  0.,  3., 10.,  1.,  0., 12.,  5.,  0.,  0.,  5.,\n",
              "        8.,  0.,  0.,  8.,  6.,  0.,  0.,  8.,  8.,  0.,  0.,  8.,  8.,\n",
              "        0.,  0.,  5.,  8.,  0.,  0., 10.,  6.,  0.,  0.,  4., 13.,  4.,\n",
              "        6., 13.,  0.,  0.,  0.,  0.,  6., 16., 14.,  3.,  0.,  0.])"
            ]
          },
          "metadata": {
            "tags": []
          },
          "execution_count": 38
        }
      ]
    },
    {
      "cell_type": "code",
      "metadata": {
        "id": "i8vANjoAyCKU",
        "outputId": "51685335-212b-4829-b7df-545caf56201f",
        "colab": {
          "base_uri": "https://localhost:8080/",
          "height": 34
        }
      },
      "source": [
        "y_train[0]"
      ],
      "execution_count": 39,
      "outputs": [
        {
          "output_type": "execute_result",
          "data": {
            "text/plain": [
              "0"
            ]
          },
          "metadata": {
            "tags": []
          },
          "execution_count": 39
        }
      ]
    },
    {
      "cell_type": "markdown",
      "metadata": {
        "id": "M_kG2wvLyH3R"
      },
      "source": [
        "Trenowanie modelu"
      ]
    },
    {
      "cell_type": "code",
      "metadata": {
        "id": "V294yS9ZyDaQ",
        "outputId": "bc69c53f-972a-475b-c0f3-e007316f0c7a",
        "colab": {
          "base_uri": "https://localhost:8080/",
          "height": 34
        }
      },
      "source": [
        "from sklearn.svm import SVC\n",
        "\n",
        "classifier = SVC(gamma=0.001, kernel='linear')\n",
        "classifier.fit(X_train, y_train)\n",
        "classifier.score(X_test, y_test)"
      ],
      "execution_count": 41,
      "outputs": [
        {
          "output_type": "execute_result",
          "data": {
            "text/plain": [
              "0.9755555555555555"
            ]
          },
          "metadata": {
            "tags": []
          },
          "execution_count": 41
        }
      ]
    },
    {
      "cell_type": "code",
      "metadata": {
        "id": "EREi1lpnyiFC",
        "outputId": "45529bc8-95d0-4b92-8118-554f7de8c1a4",
        "colab": {
          "base_uri": "https://localhost:8080/",
          "height": 34
        }
      },
      "source": [
        "classifier = SVC(gamma=0.001, kernel='rbf')\n",
        "classifier.fit(X_train, y_train)\n",
        "classifier.score(X_test, y_test)"
      ],
      "execution_count": 42,
      "outputs": [
        {
          "output_type": "execute_result",
          "data": {
            "text/plain": [
              "0.9911111111111112"
            ]
          },
          "metadata": {
            "tags": []
          },
          "execution_count": 42
        }
      ]
    },
    {
      "cell_type": "code",
      "metadata": {
        "id": "UJAA1oKQyx3g"
      },
      "source": [
        "y_pred = classifier.predict(X_test)"
      ],
      "execution_count": 43,
      "outputs": []
    },
    {
      "cell_type": "code",
      "metadata": {
        "id": "QI9lE1uQy2yM",
        "outputId": "3b3e6dec-b639-4e0f-faf4-20f36ad234b6",
        "colab": {
          "base_uri": "https://localhost:8080/",
          "height": 302
        }
      },
      "source": [
        "print(classification_report(y_test, y_pred))"
      ],
      "execution_count": 44,
      "outputs": [
        {
          "output_type": "stream",
          "text": [
            "              precision    recall  f1-score   support\n",
            "\n",
            "           0       1.00      1.00      1.00        54\n",
            "           1       1.00      1.00      1.00        41\n",
            "           2       1.00      1.00      1.00        50\n",
            "           3       1.00      0.93      0.96        41\n",
            "           4       1.00      1.00      1.00        38\n",
            "           5       0.97      1.00      0.99        39\n",
            "           6       1.00      1.00      1.00        42\n",
            "           7       0.96      1.00      0.98        48\n",
            "           8       0.98      1.00      0.99        52\n",
            "           9       1.00      0.98      0.99        45\n",
            "\n",
            "    accuracy                           0.99       450\n",
            "   macro avg       0.99      0.99      0.99       450\n",
            "weighted avg       0.99      0.99      0.99       450\n",
            "\n"
          ],
          "name": "stdout"
        }
      ]
    },
    {
      "cell_type": "code",
      "metadata": {
        "id": "ALQJzAgvy-Oi",
        "outputId": "62c0710e-b703-4e04-8b55-45f03c309dae",
        "colab": {
          "base_uri": "https://localhost:8080/",
          "height": 185
        }
      },
      "source": [
        "cm = confusion_matrix(y_test, y_pred)\n",
        "cm"
      ],
      "execution_count": 46,
      "outputs": [
        {
          "output_type": "execute_result",
          "data": {
            "text/plain": [
              "array([[54,  0,  0,  0,  0,  0,  0,  0,  0,  0],\n",
              "       [ 0, 41,  0,  0,  0,  0,  0,  0,  0,  0],\n",
              "       [ 0,  0, 50,  0,  0,  0,  0,  0,  0,  0],\n",
              "       [ 0,  0,  0, 38,  0,  0,  0,  2,  1,  0],\n",
              "       [ 0,  0,  0,  0, 38,  0,  0,  0,  0,  0],\n",
              "       [ 0,  0,  0,  0,  0, 39,  0,  0,  0,  0],\n",
              "       [ 0,  0,  0,  0,  0,  0, 42,  0,  0,  0],\n",
              "       [ 0,  0,  0,  0,  0,  0,  0, 48,  0,  0],\n",
              "       [ 0,  0,  0,  0,  0,  0,  0,  0, 52,  0],\n",
              "       [ 0,  0,  0,  0,  0,  1,  0,  0,  0, 44]])"
            ]
          },
          "metadata": {
            "tags": []
          },
          "execution_count": 46
        }
      ]
    },
    {
      "cell_type": "code",
      "metadata": {
        "id": "zge8ikjJzDzl",
        "outputId": "b08a65b8-9af3-4a44-db62-88e5b848fcff",
        "colab": {
          "base_uri": "https://localhost:8080/",
          "height": 399
        }
      },
      "source": [
        "plt.figure(figsize=(8, 6))\n",
        "plt.title('Macierz konfuzji')\n",
        "_ = sns.heatmap(cm, annot=True, cmap=sns.cm.rocket_r)"
      ],
      "execution_count": 47,
      "outputs": [
        {
          "output_type": "display_data",
          "data": {
            "image/png": "[encoded data removed]",
            "text/plain": [
              "<Figure size 576x432 with 2 Axes>"
            ]
          },
          "metadata": {
            "tags": [],
            "needs_background": "light"
          }
        }
      ]
    },
    {
      "cell_type": "code",
      "metadata": {
        "id": "ZGQhO0qizJgt",
        "outputId": "dc46cd47-2825-4efd-c32f-c8d8e420ad7f",
        "colab": {
          "base_uri": "https://localhost:8080/",
          "height": 517
        }
      },
      "source": [
        "columns = ['pred_' + str(i) for i in range(10)]\n",
        "index = ['true_' + str(i) for i in range(10)]\n",
        "\n",
        "def plot_confusion_matrix(cm):\n",
        "    # Mulitclass classification, 3 classes\n",
        "    cm = cm[::-1]\n",
        "    cm = pd.DataFrame(cm, columns=columns, index=index[::-1])\n",
        "\n",
        "    fig = ff.create_annotated_heatmap(z=cm.values, x=list(cm.columns), y=list(cm.index), \n",
        "                                      colorscale='ice', showscale=True, reversescale=True)\n",
        "    fig.update_layout(width=700, height=500, title='Confusion Matrix', font_size=16)\n",
        "    fig.show()\n",
        "\n",
        "plot_confusion_matrix(cm)"
      ],
      "execution_count": 48,
      "outputs": [
        {
          "output_type": "display_data",
          "data": {
            "text/html": [
              "<html>\n",
              "<head><meta charset=\"utf-8\" /></head>\n",
              "<body>\n",
              "    <div>\n",
              "            <script src=\"https://cdnjs.cloudflare.com/ajax/libs/mathjax/2.7.5/MathJax.js?config=TeX-AMS-MML_SVG\"></script><script type=\"text/javascript\">if (window.MathJax) {MathJax.Hub.Config({SVG: {font: \"STIX-Web\"}});}</script>\n",
              "                <script type=\"text/javascript\">window.PlotlyConfig = {MathJaxConfig: 'local'};</script>\n",
              "        <script src=\"https://cdn.plot.ly/plotly-latest.min.js\"></script>    \n",
              "            <div id=\"26fb869e-afad-4515-800a-140ad6a21746\" class=\"plotly-graph-div\" style=\"height:500px; width:700px;\"></div>\n",
              "            <script type=\"text/javascript\">\n",
              "                \n",
              "                    window.PLOTLYENV=window.PLOTLYENV || {};\n",
              "                    \n",
              "                if (document.getElementById(\"26fb869e-afad-4515-800a-140ad6a21746\")) {\n",
              "                    Plotly.newPlot(\n",
              "                        '26fb869e-afad-4515-800a-140ad6a21746',\n",
              "                        [{\"colorscale\": [[0.0, \"rgb(3, 5, 18)\"], [0.09090909090909091, \"rgb(25, 25, 51)\"], [0.18181818181818182, \"rgb(44, 42, 87)\"], [0.2727272727272727, \"rgb(58, 60, 125)\"], [0.36363636363636365, \"rgb(62, 83, 160)\"], [0.45454545454545453, \"rgb(62, 109, 178)\"], [0.5454545454545454, \"rgb(72, 134, 187)\"], [0.6363636363636364, \"rgb(89, 159, 196)\"], [0.7272727272727273, \"rgb(114, 184, 205)\"], [0.8181818181818182, \"rgb(149, 207, 216)\"], [0.9090909090909091, \"rgb(192, 229, 232)\"], [1.0, \"rgb(234, 252, 253)\"]], \"reversescale\": true, \"showscale\": true, \"type\": \"heatmap\", \"x\": [\"pred_0\", \"pred_1\", \"pred_2\", \"pred_3\", \"pred_4\", \"pred_5\", \"pred_6\", \"pred_7\", \"pred_8\", \"pred_9\"], \"y\": [\"true_9\", \"true_8\", \"true_7\", \"true_6\", \"true_5\", \"true_4\", \"true_3\", \"true_2\", \"true_1\", \"true_0\"], \"z\": [[0, 0, 0, 0, 0, 1, 0, 0, 0, 44], [0, 0, 0, 0, 0, 0, 0, 0, 52, 0], [0, 0, 0, 0, 0, 0, 0, 48, 0, 0], [0, 0, 0, 0, 0, 0, 42, 0, 0, 0], [0, 0, 0, 0, 0, 39, 0, 0, 0, 0], [0, 0, 0, 0, 38, 0, 0, 0, 0, 0], [0, 0, 0, 38, 0, 0, 0, 2, 1, 0], [0, 0, 50, 0, 0, 0, 0, 0, 0, 0], [0, 41, 0, 0, 0, 0, 0, 0, 0, 0], [54, 0, 0, 0, 0, 0, 0, 0, 0, 0]]}],\n",
              "                        {\"annotations\": [{\"font\": {\"color\": \"#000000\"}, \"showarrow\": false, \"text\": \"0\", \"x\": \"pred_0\", \"xref\": \"x\", \"y\": \"true_9\", \"yref\": \"y\"}, {\"font\": {\"color\": \"#000000\"}, \"showarrow\": false, \"text\": \"0\", \"x\": \"pred_1\", \"xref\": \"x\", \"y\": \"true_9\", \"yref\": \"y\"}, {\"font\": {\"color\": \"#000000\"}, \"showarrow\": false, \"text\": \"0\", \"x\": \"pred_2\", \"xref\": \"x\", \"y\": \"true_9\", \"yref\": \"y\"}, {\"font\": {\"color\": \"#000000\"}, \"showarrow\": false, \"text\": \"0\", \"x\": \"pred_3\", \"xref\": \"x\", \"y\": \"true_9\", \"yref\": \"y\"}, {\"font\": {\"color\": \"#000000\"}, \"showarrow\": false, \"text\": \"0\", \"x\": \"pred_4\", \"xref\": \"x\", \"y\": \"true_9\", \"yref\": \"y\"}, {\"font\": {\"color\": \"#000000\"}, \"showarrow\": false, \"text\": \"1\", \"x\": \"pred_5\", \"xref\": \"x\", \"y\": \"true_9\", \"yref\": \"y\"}, {\"font\": {\"color\": \"#000000\"}, \"showarrow\": false, \"text\": \"0\", \"x\": \"pred_6\", \"xref\": \"x\", \"y\": \"true_9\", \"yref\": \"y\"}, {\"font\": {\"color\": \"#000000\"}, \"showarrow\": false, \"text\": \"0\", \"x\": \"pred_7\", \"xref\": \"x\", \"y\": \"true_9\", \"yref\": \"y\"}, {\"font\": {\"color\": \"#000000\"}, \"showarrow\": false, \"text\": \"0\", \"x\": \"pred_8\", \"xref\": \"x\", \"y\": \"true_9\", \"yref\": \"y\"}, {\"font\": {\"color\": \"#FFFFFF\"}, \"showarrow\": false, \"text\": \"44\", \"x\": \"pred_9\", \"xref\": \"x\", \"y\": \"true_9\", \"yref\": \"y\"}, {\"font\": {\"color\": \"#000000\"}, \"showarrow\": false, \"text\": \"0\", \"x\": \"pred_0\", \"xref\": \"x\", \"y\": \"true_8\", \"yref\": \"y\"}, {\"font\": {\"color\": \"#000000\"}, \"showarrow\": false, \"text\": \"0\", \"x\": \"pred_1\", \"xref\": \"x\", \"y\": \"true_8\", \"yref\": \"y\"}, {\"font\": {\"color\": \"#000000\"}, \"showarrow\": false, \"text\": \"0\", \"x\": \"pred_2\", \"xref\": \"x\", \"y\": \"true_8\", \"yref\": \"y\"}, {\"font\": {\"color\": \"#000000\"}, \"showarrow\": false, \"text\": \"0\", \"x\": \"pred_3\", \"xref\": \"x\", \"y\": \"true_8\", \"yref\": \"y\"}, {\"font\": {\"color\": \"#000000\"}, \"showarrow\": false, \"text\": \"0\", \"x\": \"pred_4\", \"xref\": \"x\", \"y\": \"true_8\", \"yref\": \"y\"}, {\"font\": {\"color\": \"#000000\"}, \"showarrow\": false, \"text\": \"0\", \"x\": \"pred_5\", \"xref\": \"x\", \"y\": \"true_8\", \"yref\": \"y\"}, {\"font\": {\"color\": \"#000000\"}, \"showarrow\": false, \"text\": \"0\", \"x\": \"pred_6\", \"xref\": \"x\", \"y\": \"true_8\", \"yref\": \"y\"}, {\"font\": {\"color\": \"#000000\"}, \"showarrow\": false, \"text\": \"0\", \"x\": \"pred_7\", \"xref\": \"x\", \"y\": \"true_8\", \"yref\": \"y\"}, {\"font\": {\"color\": \"#FFFFFF\"}, \"showarrow\": false, \"text\": \"52\", \"x\": \"pred_8\", \"xref\": \"x\", \"y\": \"true_8\", \"yref\": \"y\"}, {\"font\": {\"color\": \"#000000\"}, \"showarrow\": false, \"text\": \"0\", \"x\": \"pred_9\", \"xref\": \"x\", \"y\": \"true_8\", \"yref\": \"y\"}, {\"font\": {\"color\": \"#000000\"}, \"showarrow\": false, \"text\": \"0\", \"x\": \"pred_0\", \"xref\": \"x\", \"y\": \"true_7\", \"yref\": \"y\"}, {\"font\": {\"color\": \"#000000\"}, \"showarrow\": false, \"text\": \"0\", \"x\": \"pred_1\", \"xref\": \"x\", \"y\": \"true_7\", \"yref\": \"y\"}, {\"font\": {\"color\": \"#000000\"}, \"showarrow\": false, \"text\": \"0\", \"x\": \"pred_2\", \"xref\": \"x\", \"y\": \"true_7\", \"yref\": \"y\"}, {\"font\": {\"color\": \"#000000\"}, \"showarrow\": false, \"text\": \"0\", \"x\": \"pred_3\", \"xref\": \"x\", \"y\": \"true_7\", \"yref\": \"y\"}, {\"font\": {\"color\": \"#000000\"}, \"showarrow\": false, \"text\": \"0\", \"x\": \"pred_4\", \"xref\": \"x\", \"y\": \"true_7\", \"yref\": \"y\"}, {\"font\": {\"color\": \"#000000\"}, \"showarrow\": false, \"text\": \"0\", \"x\": \"pred_5\", \"xref\": \"x\", \"y\": \"true_7\", \"yref\": \"y\"}, {\"font\": {\"color\": \"#000000\"}, \"showarrow\": false, \"text\": \"0\", \"x\": \"pred_6\", \"xref\": \"x\", \"y\": \"true_7\", \"yref\": \"y\"}, {\"font\": {\"color\": \"#FFFFFF\"}, \"showarrow\": false, \"text\": \"48\", \"x\": \"pred_7\", \"xref\": \"x\", \"y\": \"true_7\", \"yref\": \"y\"}, {\"font\": {\"color\": \"#000000\"}, \"showarrow\": false, \"text\": \"0\", \"x\": \"pred_8\", \"xref\": \"x\", \"y\": \"true_7\", \"yref\": \"y\"}, {\"font\": {\"color\": \"#000000\"}, \"showarrow\": false, \"text\": \"0\", \"x\": \"pred_9\", \"xref\": \"x\", \"y\": \"true_7\", \"yref\": \"y\"}, {\"font\": {\"color\": \"#000000\"}, \"showarrow\": false, \"text\": \"0\", \"x\": \"pred_0\", \"xref\": \"x\", \"y\": \"true_6\", \"yref\": \"y\"}, {\"font\": {\"color\": \"#000000\"}, \"showarrow\": false, \"text\": \"0\", \"x\": \"pred_1\", \"xref\": \"x\", \"y\": \"true_6\", \"yref\": \"y\"}, {\"font\": {\"color\": \"#000000\"}, \"showarrow\": false, \"text\": \"0\", \"x\": \"pred_2\", \"xref\": \"x\", \"y\": \"true_6\", \"yref\": \"y\"}, {\"font\": {\"color\": \"#000000\"}, \"showarrow\": false, \"text\": \"0\", \"x\": \"pred_3\", \"xref\": \"x\", \"y\": \"true_6\", \"yref\": \"y\"}, {\"font\": {\"color\": \"#000000\"}, \"showarrow\": false, \"text\": \"0\", \"x\": \"pred_4\", \"xref\": \"x\", \"y\": \"true_6\", \"yref\": \"y\"}, {\"font\": {\"color\": \"#000000\"}, \"showarrow\": false, \"text\": \"0\", \"x\": \"pred_5\", \"xref\": \"x\", \"y\": \"true_6\", \"yref\": \"y\"}, {\"font\": {\"color\": \"#FFFFFF\"}, \"showarrow\": false, \"text\": \"42\", \"x\": \"pred_6\", \"xref\": \"x\", \"y\": \"true_6\", \"yref\": \"y\"}, {\"font\": {\"color\": \"#000000\"}, \"showarrow\": false, \"text\": \"0\", \"x\": \"pred_7\", \"xref\": \"x\", \"y\": \"true_6\", \"yref\": \"y\"}, {\"font\": {\"color\": \"#000000\"}, \"showarrow\": false, \"text\": \"0\", \"x\": \"pred_8\", \"xref\": \"x\", \"y\": \"true_6\", \"yref\": \"y\"}, {\"font\": {\"color\": \"#000000\"}, \"showarrow\": false, \"text\": \"0\", \"x\": \"pred_9\", \"xref\": \"x\", \"y\": \"true_6\", \"yref\": \"y\"}, {\"font\": {\"color\": \"#000000\"}, \"showarrow\": false, \"text\": \"0\", \"x\": \"pred_0\", \"xref\": \"x\", \"y\": \"true_5\", \"yref\": \"y\"}, {\"font\": {\"color\": \"#000000\"}, \"showarrow\": false, \"text\": \"0\", \"x\": \"pred_1\", \"xref\": \"x\", \"y\": \"true_5\", \"yref\": \"y\"}, {\"font\": {\"color\": \"#000000\"}, \"showarrow\": false, \"text\": \"0\", \"x\": \"pred_2\", \"xref\": \"x\", \"y\": \"true_5\", \"yref\": \"y\"}, {\"font\": {\"color\": \"#000000\"}, \"showarrow\": false, \"text\": \"0\", \"x\": \"pred_3\", \"xref\": \"x\", \"y\": \"true_5\", \"yref\": \"y\"}, {\"font\": {\"color\": \"#000000\"}, \"showarrow\": false, \"text\": \"0\", \"x\": \"pred_4\", \"xref\": \"x\", \"y\": \"true_5\", \"yref\": \"y\"}, {\"font\": {\"color\": \"#FFFFFF\"}, \"showarrow\": false, \"text\": \"39\", \"x\": \"pred_5\", \"xref\": \"x\", \"y\": \"true_5\", \"yref\": \"y\"}, {\"font\": {\"color\": \"#000000\"}, \"showarrow\": false, \"text\": \"0\", \"x\": \"pred_6\", \"xref\": \"x\", \"y\": \"true_5\", \"yref\": \"y\"}, {\"font\": {\"color\": \"#000000\"}, \"showarrow\": false, \"text\": \"0\", \"x\": \"pred_7\", \"xref\": \"x\", \"y\": \"true_5\", \"yref\": \"y\"}, {\"font\": {\"color\": \"#000000\"}, \"showarrow\": false, \"text\": \"0\", \"x\": \"pred_8\", \"xref\": \"x\", \"y\": \"true_5\", \"yref\": \"y\"}, {\"font\": {\"color\": \"#000000\"}, \"showarrow\": false, \"text\": \"0\", \"x\": \"pred_9\", \"xref\": \"x\", \"y\": \"true_5\", \"yref\": \"y\"}, {\"font\": {\"color\": \"#000000\"}, \"showarrow\": false, \"text\": \"0\", \"x\": \"pred_0\", \"xref\": \"x\", \"y\": \"true_4\", \"yref\": \"y\"}, {\"font\": {\"color\": \"#000000\"}, \"showarrow\": false, \"text\": \"0\", \"x\": \"pred_1\", \"xref\": \"x\", \"y\": \"true_4\", \"yref\": \"y\"}, {\"font\": {\"color\": \"#000000\"}, \"showarrow\": false, \"text\": \"0\", \"x\": \"pred_2\", \"xref\": \"x\", \"y\": \"true_4\", \"yref\": \"y\"}, {\"font\": {\"color\": \"#000000\"}, \"showarrow\": false, \"text\": \"0\", \"x\": \"pred_3\", \"xref\": \"x\", \"y\": \"true_4\", \"yref\": \"y\"}, {\"font\": {\"color\": \"#FFFFFF\"}, \"showarrow\": false, \"text\": \"38\", \"x\": \"pred_4\", \"xref\": \"x\", \"y\": \"true_4\", \"yref\": \"y\"}, {\"font\": {\"color\": \"#000000\"}, \"showarrow\": false, \"text\": \"0\", \"x\": \"pred_5\", \"xref\": \"x\", \"y\": \"true_4\", \"yref\": \"y\"}, {\"font\": {\"color\": \"#000000\"}, \"showarrow\": false, \"text\": \"0\", \"x\": \"pred_6\", \"xref\": \"x\", \"y\": \"true_4\", \"yref\": \"y\"}, {\"font\": {\"color\": \"#000000\"}, \"showarrow\": false, \"text\": \"0\", \"x\": \"pred_7\", \"xref\": \"x\", \"y\": \"true_4\", \"yref\": \"y\"}, {\"font\": {\"color\": \"#000000\"}, \"showarrow\": false, \"text\": \"0\", \"x\": \"pred_8\", \"xref\": \"x\", \"y\": \"true_4\", \"yref\": \"y\"}, {\"font\": {\"color\": \"#000000\"}, \"showarrow\": false, \"text\": \"0\", \"x\": \"pred_9\", \"xref\": \"x\", \"y\": \"true_4\", \"yref\": \"y\"}, {\"font\": {\"color\": \"#000000\"}, \"showarrow\": false, \"text\": \"0\", \"x\": \"pred_0\", \"xref\": \"x\", \"y\": \"true_3\", \"yref\": \"y\"}, {\"font\": {\"color\": \"#000000\"}, \"showarrow\": false, \"text\": \"0\", \"x\": \"pred_1\", \"xref\": \"x\", \"y\": \"true_3\", \"yref\": \"y\"}, {\"font\": {\"color\": \"#000000\"}, \"showarrow\": false, \"text\": \"0\", \"x\": \"pred_2\", \"xref\": \"x\", \"y\": \"true_3\", \"yref\": \"y\"}, {\"font\": {\"color\": \"#FFFFFF\"}, \"showarrow\": false, \"text\": \"38\", \"x\": \"pred_3\", \"xref\": \"x\", \"y\": \"true_3\", \"yref\": \"y\"}, {\"font\": {\"color\": \"#000000\"}, \"showarrow\": false, \"text\": \"0\", \"x\": \"pred_4\", \"xref\": \"x\", \"y\": \"true_3\", \"yref\": \"y\"}, {\"font\": {\"color\": \"#000000\"}, \"showarrow\": false, \"text\": \"0\", \"x\": \"pred_5\", \"xref\": \"x\", \"y\": \"true_3\", \"yref\": \"y\"}, {\"font\": {\"color\": \"#000000\"}, \"showarrow\": false, \"text\": \"0\", \"x\": \"pred_6\", \"xref\": \"x\", \"y\": \"true_3\", \"yref\": \"y\"}, {\"font\": {\"color\": \"#000000\"}, \"showarrow\": false, \"text\": \"2\", \"x\": \"pred_7\", \"xref\": \"x\", \"y\": \"true_3\", \"yref\": \"y\"}, {\"font\": {\"color\": \"#000000\"}, \"showarrow\": false, \"text\": \"1\", \"x\": \"pred_8\", \"xref\": \"x\", \"y\": \"true_3\", \"yref\": \"y\"}, {\"font\": {\"color\": \"#000000\"}, \"showarrow\": false, \"text\": \"0\", \"x\": \"pred_9\", \"xref\": \"x\", \"y\": \"true_3\", \"yref\": \"y\"}, {\"font\": {\"color\": \"#000000\"}, \"showarrow\": false, \"text\": \"0\", \"x\": \"pred_0\", \"xref\": \"x\", \"y\": \"true_2\", \"yref\": \"y\"}, {\"font\": {\"color\": \"#000000\"}, \"showarrow\": false, \"text\": \"0\", \"x\": \"pred_1\", \"xref\": \"x\", \"y\": \"true_2\", \"yref\": \"y\"}, {\"font\": {\"color\": \"#FFFFFF\"}, \"showarrow\": false, \"text\": \"50\", \"x\": \"pred_2\", \"xref\": \"x\", \"y\": \"true_2\", \"yref\": \"y\"}, {\"font\": {\"color\": \"#000000\"}, \"showarrow\": false, \"text\": \"0\", \"x\": \"pred_3\", \"xref\": \"x\", \"y\": \"true_2\", \"yref\": \"y\"}, {\"font\": {\"color\": \"#000000\"}, \"showarrow\": false, \"text\": \"0\", \"x\": \"pred_4\", \"xref\": \"x\", \"y\": \"true_2\", \"yref\": \"y\"}, {\"font\": {\"color\": \"#000000\"}, \"showarrow\": false, \"text\": \"0\", \"x\": \"pred_5\", \"xref\": \"x\", \"y\": \"true_2\", \"yref\": \"y\"}, {\"font\": {\"color\": \"#000000\"}, \"showarrow\": false, \"text\": \"0\", \"x\": \"pred_6\", \"xref\": \"x\", \"y\": \"true_2\", \"yref\": \"y\"}, {\"font\": {\"color\": \"#000000\"}, \"showarrow\": false, \"text\": \"0\", \"x\": \"pred_7\", \"xref\": \"x\", \"y\": \"true_2\", \"yref\": \"y\"}, {\"font\": {\"color\": \"#000000\"}, \"showarrow\": false, \"text\": \"0\", \"x\": \"pred_8\", \"xref\": \"x\", \"y\": \"true_2\", \"yref\": \"y\"}, {\"font\": {\"color\": \"#000000\"}, \"showarrow\": false, \"text\": \"0\", \"x\": \"pred_9\", \"xref\": \"x\", \"y\": \"true_2\", \"yref\": \"y\"}, {\"font\": {\"color\": \"#000000\"}, \"showarrow\": false, \"text\": \"0\", \"x\": \"pred_0\", \"xref\": \"x\", \"y\": \"true_1\", \"yref\": \"y\"}, {\"font\": {\"color\": \"#FFFFFF\"}, \"showarrow\": false, \"text\": \"41\", \"x\": \"pred_1\", \"xref\": \"x\", \"y\": \"true_1\", \"yref\": \"y\"}, {\"font\": {\"color\": \"#000000\"}, \"showarrow\": false, \"text\": \"0\", \"x\": \"pred_2\", \"xref\": \"x\", \"y\": \"true_1\", \"yref\": \"y\"}, {\"font\": {\"color\": \"#000000\"}, \"showarrow\": false, \"text\": \"0\", \"x\": \"pred_3\", \"xref\": \"x\", \"y\": \"true_1\", \"yref\": \"y\"}, {\"font\": {\"color\": \"#000000\"}, \"showarrow\": false, \"text\": \"0\", \"x\": \"pred_4\", \"xref\": \"x\", \"y\": \"true_1\", \"yref\": \"y\"}, {\"font\": {\"color\": \"#000000\"}, \"showarrow\": false, \"text\": \"0\", \"x\": \"pred_5\", \"xref\": \"x\", \"y\": \"true_1\", \"yref\": \"y\"}, {\"font\": {\"color\": \"#000000\"}, \"showarrow\": false, \"text\": \"0\", \"x\": \"pred_6\", \"xref\": \"x\", \"y\": \"true_1\", \"yref\": \"y\"}, {\"font\": {\"color\": \"#000000\"}, \"showarrow\": false, \"text\": \"0\", \"x\": \"pred_7\", \"xref\": \"x\", \"y\": \"true_1\", \"yref\": \"y\"}, {\"font\": {\"color\": \"#000000\"}, \"showarrow\": false, \"text\": \"0\", \"x\": \"pred_8\", \"xref\": \"x\", \"y\": \"true_1\", \"yref\": \"y\"}, {\"font\": {\"color\": \"#000000\"}, \"showarrow\": false, \"text\": \"0\", \"x\": \"pred_9\", \"xref\": \"x\", \"y\": \"true_1\", \"yref\": \"y\"}, {\"font\": {\"color\": \"#FFFFFF\"}, \"showarrow\": false, \"text\": \"54\", \"x\": \"pred_0\", \"xref\": \"x\", \"y\": \"true_0\", \"yref\": \"y\"}, {\"font\": {\"color\": \"#000000\"}, \"showarrow\": false, \"text\": \"0\", \"x\": \"pred_1\", \"xref\": \"x\", \"y\": \"true_0\", \"yref\": \"y\"}, {\"font\": {\"color\": \"#000000\"}, \"showarrow\": false, \"text\": \"0\", \"x\": \"pred_2\", \"xref\": \"x\", \"y\": \"true_0\", \"yref\": \"y\"}, {\"font\": {\"color\": \"#000000\"}, \"showarrow\": false, \"text\": \"0\", \"x\": \"pred_3\", \"xref\": \"x\", \"y\": \"true_0\", \"yref\": \"y\"}, {\"font\": {\"color\": \"#000000\"}, \"showarrow\": false, \"text\": \"0\", \"x\": \"pred_4\", \"xref\": \"x\", \"y\": \"true_0\", \"yref\": \"y\"}, {\"font\": {\"color\": \"#000000\"}, \"showarrow\": false, \"text\": \"0\", \"x\": \"pred_5\", \"xref\": \"x\", \"y\": \"true_0\", \"yref\": \"y\"}, {\"font\": {\"color\": \"#000000\"}, \"showarrow\": false, \"text\": \"0\", \"x\": \"pred_6\", \"xref\": \"x\", \"y\": \"true_0\", \"yref\": \"y\"}, {\"font\": {\"color\": \"#000000\"}, \"showarrow\": false, \"text\": \"0\", \"x\": \"pred_7\", \"xref\": \"x\", \"y\": \"true_0\", \"yref\": \"y\"}, {\"font\": {\"color\": \"#000000\"}, \"showarrow\": false, \"text\": \"0\", \"x\": \"pred_8\", \"xref\": \"x\", \"y\": \"true_0\", \"yref\": \"y\"}, {\"font\": {\"color\": \"#000000\"}, \"showarrow\": false, \"text\": \"0\", \"x\": \"pred_9\", \"xref\": \"x\", \"y\": \"true_0\", \"yref\": \"y\"}], \"font\": {\"size\": 16}, \"height\": 500, \"template\": {\"data\": {\"bar\": [{\"error_x\": {\"color\": \"#2a3f5f\"}, \"error_y\": {\"color\": \"#2a3f5f\"}, \"marker\": {\"line\": {\"color\": \"#E5ECF6\", \"width\": 0.5}}, \"type\": \"bar\"}], \"barpolar\": [{\"marker\": {\"line\": {\"color\": \"#E5ECF6\", \"width\": 0.5}}, \"type\": \"barpolar\"}], \"carpet\": [{\"aaxis\": {\"endlinecolor\": \"#2a3f5f\", \"gridcolor\": \"white\", \"linecolor\": \"white\", \"minorgridcolor\": \"white\", \"startlinecolor\": \"#2a3f5f\"}, \"baxis\": {\"endlinecolor\": \"#2a3f5f\", \"gridcolor\": \"white\", \"linecolor\": \"white\", \"minorgridcolor\": \"white\", \"startlinecolor\": \"#2a3f5f\"}, \"type\": \"carpet\"}], \"choropleth\": [{\"colorbar\": {\"outlinewidth\": 0, \"ticks\": \"\"}, \"type\": \"choropleth\"}], \"contour\": [{\"colorbar\": {\"outlinewidth\": 0, \"ticks\": \"\"}, \"colorscale\": [[0.0, \"#0d0887\"], [0.1111111111111111, \"#46039f\"], [0.2222222222222222, \"#7201a8\"], [0.3333333333333333, \"#9c179e\"], [0.4444444444444444, \"#bd3786\"], [0.5555555555555556, \"#d8576b\"], [0.6666666666666666, \"#ed7953\"], [0.7777777777777778, \"#fb9f3a\"], [0.8888888888888888, \"#fdca26\"], [1.0, \"#f0f921\"]], \"type\": \"contour\"}], \"contourcarpet\": [{\"colorbar\": {\"outlinewidth\": 0, \"ticks\": \"\"}, \"type\": \"contourcarpet\"}], \"heatmap\": [{\"colorbar\": {\"outlinewidth\": 0, \"ticks\": \"\"}, \"colorscale\": [[0.0, \"#0d0887\"], [0.1111111111111111, \"#46039f\"], [0.2222222222222222, \"#7201a8\"], [0.3333333333333333, \"#9c179e\"], [0.4444444444444444, \"#bd3786\"], [0.5555555555555556, \"#d8576b\"], [0.6666666666666666, \"#ed7953\"], [0.7777777777777778, \"#fb9f3a\"], [0.8888888888888888, \"#fdca26\"], [1.0, \"#f0f921\"]], \"type\": \"heatmap\"}], \"heatmapgl\": [{\"colorbar\": {\"outlinewidth\": 0, \"ticks\": \"\"}, \"colorscale\": [[0.0, \"#0d0887\"], [0.1111111111111111, \"#46039f\"], [0.2222222222222222, \"#7201a8\"], [0.3333333333333333, \"#9c179e\"], [0.4444444444444444, \"#bd3786\"], [0.5555555555555556, \"#d8576b\"], [0.6666666666666666, \"#ed7953\"], [0.7777777777777778, \"#fb9f3a\"], [0.8888888888888888, \"#fdca26\"], [1.0, \"#f0f921\"]], \"type\": \"heatmapgl\"}], \"histogram\": [{\"marker\": {\"colorbar\": {\"outlinewidth\": 0, \"ticks\": \"\"}}, \"type\": \"histogram\"}], \"histogram2d\": [{\"colorbar\": {\"outlinewidth\": 0, \"ticks\": \"\"}, \"colorscale\": [[0.0, \"#0d0887\"], [0.1111111111111111, \"#46039f\"], [0.2222222222222222, \"#7201a8\"], [0.3333333333333333, \"#9c179e\"], [0.4444444444444444, \"#bd3786\"], [0.5555555555555556, \"#d8576b\"], [0.6666666666666666, \"#ed7953\"], [0.7777777777777778, \"#fb9f3a\"], [0.8888888888888888, \"#fdca26\"], [1.0, \"#f0f921\"]], \"type\": \"histogram2d\"}], \"histogram2dcontour\": [{\"colorbar\": {\"outlinewidth\": 0, \"ticks\": \"\"}, \"colorscale\": [[0.0, \"#0d0887\"], [0.1111111111111111, \"#46039f\"], [0.2222222222222222, \"#7201a8\"], [0.3333333333333333, \"#9c179e\"], [0.4444444444444444, \"#bd3786\"], [0.5555555555555556, \"#d8576b\"], [0.6666666666666666, \"#ed7953\"], [0.7777777777777778, \"#fb9f3a\"], [0.8888888888888888, \"#fdca26\"], [1.0, \"#f0f921\"]], \"type\": \"histogram2dcontour\"}], \"mesh3d\": [{\"colorbar\": {\"outlinewidth\": 0, \"ticks\": \"\"}, \"type\": \"mesh3d\"}], \"parcoords\": [{\"line\": {\"colorbar\": {\"outlinewidth\": 0, \"ticks\": \"\"}}, \"type\": \"parcoords\"}], \"pie\": [{\"automargin\": true, \"type\": \"pie\"}], \"scatter\": [{\"marker\": {\"colorbar\": {\"outlinewidth\": 0, \"ticks\": \"\"}}, \"type\": \"scatter\"}], \"scatter3d\": [{\"line\": {\"colorbar\": {\"outlinewidth\": 0, \"ticks\": \"\"}}, \"marker\": {\"colorbar\": {\"outlinewidth\": 0, \"ticks\": \"\"}}, \"type\": \"scatter3d\"}], \"scattercarpet\": [{\"marker\": {\"colorbar\": {\"outlinewidth\": 0, \"ticks\": \"\"}}, \"type\": \"scattercarpet\"}], \"scattergeo\": [{\"marker\": {\"colorbar\": {\"outlinewidth\": 0, \"ticks\": \"\"}}, \"type\": \"scattergeo\"}], \"scattergl\": [{\"marker\": {\"colorbar\": {\"outlinewidth\": 0, \"ticks\": \"\"}}, \"type\": \"scattergl\"}], \"scattermapbox\": [{\"marker\": {\"colorbar\": {\"outlinewidth\": 0, \"ticks\": \"\"}}, \"type\": \"scattermapbox\"}], \"scatterpolar\": [{\"marker\": {\"colorbar\": {\"outlinewidth\": 0, \"ticks\": \"\"}}, \"type\": \"scatterpolar\"}], \"scatterpolargl\": [{\"marker\": {\"colorbar\": {\"outlinewidth\": 0, \"ticks\": \"\"}}, \"type\": \"scatterpolargl\"}], \"scatterternary\": [{\"marker\": {\"colorbar\": {\"outlinewidth\": 0, \"ticks\": \"\"}}, \"type\": \"scatterternary\"}], \"surface\": [{\"colorbar\": {\"outlinewidth\": 0, \"ticks\": \"\"}, \"colorscale\": [[0.0, \"#0d0887\"], [0.1111111111111111, \"#46039f\"], [0.2222222222222222, \"#7201a8\"], [0.3333333333333333, \"#9c179e\"], [0.4444444444444444, \"#bd3786\"], [0.5555555555555556, \"#d8576b\"], [0.6666666666666666, \"#ed7953\"], [0.7777777777777778, \"#fb9f3a\"], [0.8888888888888888, \"#fdca26\"], [1.0, \"#f0f921\"]], \"type\": \"surface\"}], \"table\": [{\"cells\": {\"fill\": {\"color\": \"#EBF0F8\"}, \"line\": {\"color\": \"white\"}}, \"header\": {\"fill\": {\"color\": \"#C8D4E3\"}, \"line\": {\"color\": \"white\"}}, \"type\": \"table\"}]}, \"layout\": {\"annotationdefaults\": {\"arrowcolor\": \"#2a3f5f\", \"arrowhead\": 0, \"arrowwidth\": 1}, \"coloraxis\": {\"colorbar\": {\"outlinewidth\": 0, \"ticks\": \"\"}}, \"colorscale\": {\"diverging\": [[0, \"#8e0152\"], [0.1, \"#c51b7d\"], [0.2, \"#de77ae\"], [0.3, \"#f1b6da\"], [0.4, \"#fde0ef\"], [0.5, \"#f7f7f7\"], [0.6, \"#e6f5d0\"], [0.7, \"#b8e186\"], [0.8, \"#7fbc41\"], [0.9, \"#4d9221\"], [1, \"#276419\"]], \"sequential\": [[0.0, \"#0d0887\"], [0.1111111111111111, \"#46039f\"], [0.2222222222222222, \"#7201a8\"], [0.3333333333333333, \"#9c179e\"], [0.4444444444444444, \"#bd3786\"], [0.5555555555555556, \"#d8576b\"], [0.6666666666666666, \"#ed7953\"], [0.7777777777777778, \"#fb9f3a\"], [0.8888888888888888, \"#fdca26\"], [1.0, \"#f0f921\"]], \"sequentialminus\": [[0.0, \"#0d0887\"], [0.1111111111111111, \"#46039f\"], [0.2222222222222222, \"#7201a8\"], [0.3333333333333333, \"#9c179e\"], [0.4444444444444444, \"#bd3786\"], [0.5555555555555556, \"#d8576b\"], [0.6666666666666666, \"#ed7953\"], [0.7777777777777778, \"#fb9f3a\"], [0.8888888888888888, \"#fdca26\"], [1.0, \"#f0f921\"]]}, \"colorway\": [\"#636efa\", \"#EF553B\", \"#00cc96\", \"#ab63fa\", \"#FFA15A\", \"#19d3f3\", \"#FF6692\", \"#B6E880\", \"#FF97FF\", \"#FECB52\"], \"font\": {\"color\": \"#2a3f5f\"}, \"geo\": {\"bgcolor\": \"white\", \"lakecolor\": \"white\", \"landcolor\": \"#E5ECF6\", \"showlakes\": true, \"showland\": true, \"subunitcolor\": \"white\"}, \"hoverlabel\": {\"align\": \"left\"}, \"hovermode\": \"closest\", \"mapbox\": {\"style\": \"light\"}, \"paper_bgcolor\": \"white\", \"plot_bgcolor\": \"#E5ECF6\", \"polar\": {\"angularaxis\": {\"gridcolor\": \"white\", \"linecolor\": \"white\", \"ticks\": \"\"}, \"bgcolor\": \"#E5ECF6\", \"radialaxis\": {\"gridcolor\": \"white\", \"linecolor\": \"white\", \"ticks\": \"\"}}, \"scene\": {\"xaxis\": {\"backgroundcolor\": \"#E5ECF6\", \"gridcolor\": \"white\", \"gridwidth\": 2, \"linecolor\": \"white\", \"showbackground\": true, \"ticks\": \"\", \"zerolinecolor\": \"white\"}, \"yaxis\": {\"backgroundcolor\": \"#E5ECF6\", \"gridcolor\": \"white\", \"gridwidth\": 2, \"linecolor\": \"white\", \"showbackground\": true, \"ticks\": \"\", \"zerolinecolor\": \"white\"}, \"zaxis\": {\"backgroundcolor\": \"#E5ECF6\", \"gridcolor\": \"white\", \"gridwidth\": 2, \"linecolor\": \"white\", \"showbackground\": true, \"ticks\": \"\", \"zerolinecolor\": \"white\"}}, \"shapedefaults\": {\"line\": {\"color\": \"#2a3f5f\"}}, \"ternary\": {\"aaxis\": {\"gridcolor\": \"white\", \"linecolor\": \"white\", \"ticks\": \"\"}, \"baxis\": {\"gridcolor\": \"white\", \"linecolor\": \"white\", \"ticks\": \"\"}, \"bgcolor\": \"#E5ECF6\", \"caxis\": {\"gridcolor\": \"white\", \"linecolor\": \"white\", \"ticks\": \"\"}}, \"title\": {\"x\": 0.05}, \"xaxis\": {\"automargin\": true, \"gridcolor\": \"white\", \"linecolor\": \"white\", \"ticks\": \"\", \"title\": {\"standoff\": 15}, \"zerolinecolor\": \"white\", \"zerolinewidth\": 2}, \"yaxis\": {\"automargin\": true, \"gridcolor\": \"white\", \"linecolor\": \"white\", \"ticks\": \"\", \"title\": {\"standoff\": 15}, \"zerolinecolor\": \"white\", \"zerolinewidth\": 2}}}, \"title\": {\"text\": \"Confusion Matrix\"}, \"width\": 700, \"xaxis\": {\"dtick\": 1, \"gridcolor\": \"rgb(0, 0, 0)\", \"side\": \"top\", \"ticks\": \"\"}, \"yaxis\": {\"dtick\": 1, \"ticks\": \"\", \"ticksuffix\": \"  \"}},\n",
              "                        {\"responsive\": true}\n",
              "                    ).then(function(){\n",
              "                            \n",
              "var gd = document.getElementById('26fb869e-afad-4515-800a-140ad6a21746');\n",
              "var x = new MutationObserver(function (mutations, observer) {{\n",
              "        var display = window.getComputedStyle(gd).display;\n",
              "        if (!display || display === 'none') {{\n",
              "            console.log([gd, 'removed!']);\n",
              "            Plotly.purge(gd);\n",
              "            observer.disconnect();\n",
              "        }}\n",
              "}});\n",
              "\n",
              "// Listen for the removal of the full notebook cells\n",
              "var notebookContainer = gd.closest('#notebook-container');\n",
              "if (notebookContainer) {{\n",
              "    x.observe(notebookContainer, {childList: true});\n",
              "}}\n",
              "\n",
              "// Listen for the clearing of the current output cell\n",
              "var outputEl = gd.closest('.output');\n",
              "if (outputEl) {{\n",
              "    x.observe(outputEl, {childList: true});\n",
              "}}\n",
              "\n",
              "                        })\n",
              "                };\n",
              "                \n",
              "            </script>\n",
              "        </div>\n",
              "</body>\n",
              "</html>"
            ]
          },
          "metadata": {
            "tags": []
          }
        }
      ]
    },
    {
      "cell_type": "markdown",
      "metadata": {
        "id": "VXMTQeS5zfz5"
      },
      "source": [
        "Błędne predykcje"
      ]
    },
    {
      "cell_type": "code",
      "metadata": {
        "id": "UU6pzE5izNPP",
        "outputId": "2647678f-6974-41d3-be84-b8af2e823de3",
        "colab": {
          "base_uri": "https://localhost:8080/",
          "height": 34
        }
      },
      "source": [
        "results = pd.DataFrame(data={'y_pred': y_pred, 'y_test': y_test})\n",
        "results.head(10)\n",
        "\n",
        "errors = results[results['y_pred'] != results['y_test']]\n",
        "errors_idxs = list(errors.index)\n",
        "errors_idxs\n"
      ],
      "execution_count": 49,
      "outputs": [
        {
          "output_type": "execute_result",
          "data": {
            "text/plain": [
              "[182, 286, 334, 438]"
            ]
          },
          "metadata": {
            "tags": []
          },
          "execution_count": 49
        }
      ]
    },
    {
      "cell_type": "code",
      "metadata": {
        "id": "s982FwKvzkMd",
        "outputId": "44127388-e380-4847-95c4-3c36252e0d82",
        "colab": {
          "base_uri": "https://localhost:8080/",
          "height": 194
        }
      },
      "source": [
        "\n",
        "plt.figure(figsize=(12, 10))\n",
        "for idx, error_idx in enumerate(errors_idxs[:4]):\n",
        "    image = X_test[error_idx].reshape(8, 8) # ten fragment jest istotny bo wracamy do wyjściowego wymiaru\n",
        "    plt.subplot(2, 4, idx + 1)\n",
        "    plt.axis('off')\n",
        "    plt.imshow(image, cmap='Greys')\n",
        "    plt.title(f\"True {results.loc[error_idx, 'y_test']} Prediction: {results.loc[error_idx, 'y_pred']}\")"
      ],
      "execution_count": 50,
      "outputs": [
        {
          "output_type": "display_data",
          "data": {
            "image/png": "[encoded data removed]",
            "text/plain": [
              "<Figure size 864x720 with 4 Axes>"
            ]
          },
          "metadata": {
            "tags": [],
            "needs_background": "light"
          }
        }
      ]
    },
    {
      "cell_type": "code",
      "metadata": {
        "id": "kNf5PPL3zyE3"
      },
      "source": [
        ""
      ],
      "execution_count": null,
      "outputs": []
    }
  ]
}